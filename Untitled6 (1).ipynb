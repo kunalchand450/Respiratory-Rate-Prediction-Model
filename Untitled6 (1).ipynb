{
 "cells": [
  {
   "cell_type": "code",
   "execution_count": 89,
   "id": "ee526ad0",
   "metadata": {},
   "outputs": [],
   "source": [
    "#let import necessary libraries\n",
    "import pandas as pd\n",
    "import warnings\n",
    "warnings.filterwarnings('ignore')\n",
    "from sklearn.model_selection import train_test_split\n",
    "import seaborn as sns\n",
    "import matplotlib.pyplot as plt \n",
    "from sklearn.metrics import accuracy_score\n",
    "from sklearn.model_selection import train_test_split\n",
    "from sklearn.linear_model import LinearRegression\n",
    "from sklearn.metrics import mean_squared_error,mean_absolute_error,r2_score\n",
    "from sklearn.metrics import accuracy_score"
   ]
  },
  {
   "cell_type": "code",
   "execution_count": 90,
   "id": "5cee9fe2",
   "metadata": {},
   "outputs": [],
   "source": [
    "df=pd.read_csv('rr_train.csv')"
   ]
  },
  {
   "cell_type": "code",
   "execution_count": 91,
   "id": "6f53bfbd",
   "metadata": {},
   "outputs": [
    {
     "data": {
      "text/html": [
       "<div>\n",
       "<style scoped>\n",
       "    .dataframe tbody tr th:only-of-type {\n",
       "        vertical-align: middle;\n",
       "    }\n",
       "\n",
       "    .dataframe tbody tr th {\n",
       "        vertical-align: top;\n",
       "    }\n",
       "\n",
       "    .dataframe thead th {\n",
       "        text-align: right;\n",
       "    }\n",
       "</style>\n",
       "<table border=\"1\" class=\"dataframe\">\n",
       "  <thead>\n",
       "    <tr style=\"text-align: right;\">\n",
       "      <th></th>\n",
       "      <th>Unnamed: 0</th>\n",
       "      <th>hr</th>\n",
       "      <th>breathingrate</th>\n",
       "    </tr>\n",
       "  </thead>\n",
       "  <tbody>\n",
       "    <tr>\n",
       "      <th>0</th>\n",
       "      <td>0</td>\n",
       "      <td>[217037, 217125, 217177, 217202, 217174, 21715...</td>\n",
       "      <td>0.180451</td>\n",
       "    </tr>\n",
       "    <tr>\n",
       "      <th>1</th>\n",
       "      <td>1</td>\n",
       "      <td>[226001, 226091, 226201, 226320, 226404, 22644...</td>\n",
       "      <td>0.135172</td>\n",
       "    </tr>\n",
       "    <tr>\n",
       "      <th>2</th>\n",
       "      <td>2</td>\n",
       "      <td>[239707, 239771, 239812, 239852, 239894, 23993...</td>\n",
       "      <td>0.179147</td>\n",
       "    </tr>\n",
       "    <tr>\n",
       "      <th>3</th>\n",
       "      <td>3</td>\n",
       "      <td>[221200, 221084, 221114, 221215, 221357, 22155...</td>\n",
       "      <td>0.248478</td>\n",
       "    </tr>\n",
       "    <tr>\n",
       "      <th>4</th>\n",
       "      <td>4</td>\n",
       "      <td>[178399, 178374, 178379, 179444, 179449, 17941...</td>\n",
       "      <td>0.252525</td>\n",
       "    </tr>\n",
       "    <tr>\n",
       "      <th>...</th>\n",
       "      <td>...</td>\n",
       "      <td>...</td>\n",
       "      <td>...</td>\n",
       "    </tr>\n",
       "    <tr>\n",
       "      <th>109</th>\n",
       "      <td>109</td>\n",
       "      <td>[192930, 192834, 192732, 192645, 192533, 19246...</td>\n",
       "      <td>0.118864</td>\n",
       "    </tr>\n",
       "    <tr>\n",
       "      <th>110</th>\n",
       "      <td>110</td>\n",
       "      <td>[198156, 198135, 198010, 197738, 197330, 19680...</td>\n",
       "      <td>0.175850</td>\n",
       "    </tr>\n",
       "    <tr>\n",
       "      <th>111</th>\n",
       "      <td>111</td>\n",
       "      <td>[212695, 212467, 212298, 212218, 212192, 21221...</td>\n",
       "      <td>0.198255</td>\n",
       "    </tr>\n",
       "    <tr>\n",
       "      <th>112</th>\n",
       "      <td>112</td>\n",
       "      <td>[228697, 228580, 228420, 228267, 228130, 22801...</td>\n",
       "      <td>0.263644</td>\n",
       "    </tr>\n",
       "    <tr>\n",
       "      <th>113</th>\n",
       "      <td>113</td>\n",
       "      <td>[216182, 216147, 216040, 215966, 215878, 21579...</td>\n",
       "      <td>0.399936</td>\n",
       "    </tr>\n",
       "  </tbody>\n",
       "</table>\n",
       "<p>114 rows × 3 columns</p>\n",
       "</div>"
      ],
      "text/plain": [
       "     Unnamed: 0                                                 hr  \\\n",
       "0             0  [217037, 217125, 217177, 217202, 217174, 21715...   \n",
       "1             1  [226001, 226091, 226201, 226320, 226404, 22644...   \n",
       "2             2  [239707, 239771, 239812, 239852, 239894, 23993...   \n",
       "3             3  [221200, 221084, 221114, 221215, 221357, 22155...   \n",
       "4             4  [178399, 178374, 178379, 179444, 179449, 17941...   \n",
       "..          ...                                                ...   \n",
       "109         109  [192930, 192834, 192732, 192645, 192533, 19246...   \n",
       "110         110  [198156, 198135, 198010, 197738, 197330, 19680...   \n",
       "111         111  [212695, 212467, 212298, 212218, 212192, 21221...   \n",
       "112         112  [228697, 228580, 228420, 228267, 228130, 22801...   \n",
       "113         113  [216182, 216147, 216040, 215966, 215878, 21579...   \n",
       "\n",
       "     breathingrate  \n",
       "0         0.180451  \n",
       "1         0.135172  \n",
       "2         0.179147  \n",
       "3         0.248478  \n",
       "4         0.252525  \n",
       "..             ...  \n",
       "109       0.118864  \n",
       "110       0.175850  \n",
       "111       0.198255  \n",
       "112       0.263644  \n",
       "113       0.399936  \n",
       "\n",
       "[114 rows x 3 columns]"
      ]
     },
     "execution_count": 91,
     "metadata": {},
     "output_type": "execute_result"
    }
   ],
   "source": [
    "df"
   ]
  },
  {
   "cell_type": "code",
   "execution_count": 92,
   "id": "0f4f058b",
   "metadata": {},
   "outputs": [
    {
     "name": "stdout",
     "output_type": "stream",
     "text": [
      "<class 'pandas.core.frame.DataFrame'>\n",
      "RangeIndex: 114 entries, 0 to 113\n",
      "Data columns (total 3 columns):\n",
      " #   Column         Non-Null Count  Dtype  \n",
      "---  ------         --------------  -----  \n",
      " 0   Unnamed: 0     114 non-null    int64  \n",
      " 1   hr             114 non-null    object \n",
      " 2   breathingrate  108 non-null    float64\n",
      "dtypes: float64(1), int64(1), object(1)\n",
      "memory usage: 2.8+ KB\n"
     ]
    }
   ],
   "source": [
    "df.info()"
   ]
  },
  {
   "cell_type": "code",
   "execution_count": 93,
   "id": "0da8d45c",
   "metadata": {},
   "outputs": [],
   "source": [
    "df=df.dropna()"
   ]
  },
  {
   "cell_type": "code",
   "execution_count": 94,
   "id": "1f20f3a0",
   "metadata": {},
   "outputs": [
    {
     "data": {
      "text/plain": [
       "<AxesSubplot:>"
      ]
     },
     "execution_count": 94,
     "metadata": {},
     "output_type": "execute_result"
    },
    {
     "data": {
      "image/png": "[encoded data removed]",
      "text/plain": [
       "<Figure size 432x288 with 2 Axes>"
      ]
     },
     "metadata": {
      "needs_background": "light"
     },
     "output_type": "display_data"
    }
   ],
   "source": [
    "import seaborn as sns\n",
    "sns.heatmap(df.isnull())"
   ]
  },
  {
   "cell_type": "code",
   "execution_count": 95,
   "id": "d1b1bc2b",
   "metadata": {},
   "outputs": [],
   "source": [
    "df=df.drop('Unnamed: 0',axis=1)"
   ]
  },
  {
   "cell_type": "code",
   "execution_count": 97,
   "id": "c9aea9e0",
   "metadata": {},
   "outputs": [],
   "source": [
    "from sklearn.preprocessing import LabelEncoder\n",
    "le = LabelEncoder()\n",
    "df['hr'] = le.fit_transform(df['hr'])"
   ]
  },
  {
   "cell_type": "code",
   "execution_count": 98,
   "id": "e4ae6380",
   "metadata": {},
   "outputs": [
    {
     "data": {
      "text/html": [
       "<div>\n",
       "<style scoped>\n",
       "    .dataframe tbody tr th:only-of-type {\n",
       "        vertical-align: middle;\n",
       "    }\n",
       "\n",
       "    .dataframe tbody tr th {\n",
       "        vertical-align: top;\n",
       "    }\n",
       "\n",
       "    .dataframe thead th {\n",
       "        text-align: right;\n",
       "    }\n",
       "</style>\n",
       "<table border=\"1\" class=\"dataframe\">\n",
       "  <thead>\n",
       "    <tr style=\"text-align: right;\">\n",
       "      <th></th>\n",
       "      <th>hr</th>\n",
       "      <th>breathingrate</th>\n",
       "    </tr>\n",
       "  </thead>\n",
       "  <tbody>\n",
       "    <tr>\n",
       "      <th>0</th>\n",
       "      <td>61</td>\n",
       "      <td>0.180451</td>\n",
       "    </tr>\n",
       "    <tr>\n",
       "      <th>1</th>\n",
       "      <td>81</td>\n",
       "      <td>0.135172</td>\n",
       "    </tr>\n",
       "    <tr>\n",
       "      <th>2</th>\n",
       "      <td>99</td>\n",
       "      <td>0.179147</td>\n",
       "    </tr>\n",
       "    <tr>\n",
       "      <th>3</th>\n",
       "      <td>70</td>\n",
       "      <td>0.248478</td>\n",
       "    </tr>\n",
       "    <tr>\n",
       "      <th>4</th>\n",
       "      <td>9</td>\n",
       "      <td>0.252525</td>\n",
       "    </tr>\n",
       "  </tbody>\n",
       "</table>\n",
       "</div>"
      ],
      "text/plain": [
       "   hr  breathingrate\n",
       "0  61       0.180451\n",
       "1  81       0.135172\n",
       "2  99       0.179147\n",
       "3  70       0.248478\n",
       "4   9       0.252525"
      ]
     },
     "execution_count": 98,
     "metadata": {},
     "output_type": "execute_result"
    }
   ],
   "source": [
    "df.head()"
   ]
  },
  {
   "cell_type": "code",
   "execution_count": 99,
   "id": "bc116e45",
   "metadata": {},
   "outputs": [],
   "source": [
    "# from sklearn.feature_extraction.text import TfidfVectorizer\n",
    "# tf_vec = TfidfVectorizer(max_features = 10000)\n",
    "# x = tf_vec.fit_transform(df['hr'])"
   ]
  },
  {
   "cell_type": "code",
   "execution_count": 145,
   "id": "efd0fac1",
   "metadata": {},
   "outputs": [],
   "source": [
    "x=df[\"hr\"]"
   ]
  },
  {
   "cell_type": "code",
   "execution_count": 154,
   "id": "d012d5eb",
   "metadata": {},
   "outputs": [],
   "source": [
    "x=x.values.reshape(-1,1)\n"
   ]
  },
  {
   "cell_type": "code",
   "execution_count": 185,
   "id": "116fc7ba",
   "metadata": {},
   "outputs": [
    {
     "data": {
      "text/plain": [
       "array([[ 0.31818744],\n",
       "       [ 0.87794778],\n",
       "       [ 1.34910848],\n",
       "       [ 0.57558474],\n",
       "       [-1.52257447],\n",
       "       [ 0.51922574],\n",
       "       [-1.33646214],\n",
       "       [ 1.09063444],\n",
       "       [ 1.14295488],\n",
       "       [ 1.32360211],\n",
       "       [-1.38139014],\n",
       "       [-1.29243528],\n",
       "       [-1.67652001],\n",
       "       [ 0.04993627],\n",
       "       [-1.6234391 ],\n",
       "       [ 1.22083574],\n",
       "       [ 1.52568196],\n",
       "       [-0.04228776],\n",
       "       [ 1.24664042],\n",
       "       [-1.85115217],\n",
       "       [-0.13609438],\n",
       "       [ 0.28895518],\n",
       "       [ 1.55063543],\n",
       "       [ 0.14069188],\n",
       "       [ 1.29802262],\n",
       "       [ 1.37454268],\n",
       "       [ 0.46240181],\n",
       "       [-2.07404316],\n",
       "       [ 0.11059672],\n",
       "       [ 1.16899403],\n",
       "       [-0.39504618],\n",
       "       [ 1.42519817],\n",
       "       [ 0.34728639],\n",
       "       [-0.63429192],\n",
       "       [-1.24923308],\n",
       "       [ 0.65928787],\n",
       "       [ 1.45042124],\n",
       "       [ 1.39990561],\n",
       "       [-1.12396007],\n",
       "       [ 0.20042986],\n",
       "       [ 1.27236905],\n",
       "       [-0.96532357],\n",
       "       [ 1.19495396],\n",
       "       [ 1.03798345],\n",
       "       [-1.91709394],\n",
       "       [-0.53010814],\n",
       "       [ 0.98499222],\n",
       "       [ 0.74203459],\n",
       "       [ 0.63149558],\n",
       "       [ 0.60359518],\n",
       "       [-0.10464196],\n",
       "       [ 0.43380996],\n",
       "       [-0.19957523],\n",
       "       [ 0.71455559],\n",
       "       [-0.23161458],\n",
       "       [ 1.5006623 ],\n",
       "       [ 0.54746228],\n",
       "       [-1.7897737 ],\n",
       "       [ 1.47557567],\n",
       "       [ 0.49087298],\n",
       "       [-0.77763739],\n",
       "       [-1.47432744],\n",
       "       [-0.56454404],\n",
       "       [-1.98972088],\n",
       "       [-0.07337469],\n",
       "       [-0.49594996],\n",
       "       [ 0.93165058],\n",
       "       [-1.00419455],\n",
       "       [-0.32900002],\n",
       "       [ 0.95836586],\n",
       "       [-0.29632061],\n",
       "       [-1.20678987],\n",
       "       [-0.70528707],\n",
       "       [-0.42842796],\n",
       "       [-0.74128544],\n",
       "       [ 0.68697394],\n",
       "       [-1.16504878],\n",
       "       [-0.01137652],\n",
       "       [ 0.37625473],\n",
       "       [-1.73180269],\n",
       "       [-0.46205966],\n",
       "       [-0.85146859],\n",
       "       [-1.4273094 ],\n",
       "       [ 1.01153099],\n",
       "       [-1.57221099],\n",
       "       [ 0.85095741],\n",
       "       [-1.08347997],\n",
       "       [ 0.01936341],\n",
       "       [-0.16773703],\n",
       "       [ 0.79669138],\n",
       "       [-0.36190611],\n",
       "       [ 0.17063512],\n",
       "       [-0.88898476],\n",
       "       [-0.26386098],\n",
       "       [ 0.40509508],\n",
       "       [ 0.82387246],\n",
       "       [-1.04356967],\n",
       "       [ 1.06435086],\n",
       "       [ 0.76941263],\n",
       "       [ 0.23007937],\n",
       "       [-0.59926822],\n",
       "       [-0.92692875],\n",
       "       [ 0.90484502],\n",
       "       [-0.81435922],\n",
       "       [-0.66962721],\n",
       "       [ 0.08034609],\n",
       "       [ 1.11683539],\n",
       "       [ 0.2595868 ]])"
      ]
     },
     "execution_count": 185,
     "metadata": {},
     "output_type": "execute_result"
    }
   ],
   "source": [
    "from sklearn.preprocessing import power_transform\n",
    "x=power_transform(x,method='yeo-johnson')\n",
    "x"
   ]
  },
  {
   "cell_type": "code",
   "execution_count": 186,
   "id": "b9e922c5",
   "metadata": {},
   "outputs": [],
   "source": [
    "y=df['breathingrate']"
   ]
  },
  {
   "cell_type": "code",
   "execution_count": 187,
   "id": "d7821d40",
   "metadata": {},
   "outputs": [
    {
     "data": {
      "text/plain": [
       "0      0.180451\n",
       "1      0.135172\n",
       "2      0.179147\n",
       "3      0.248478\n",
       "4      0.252525\n",
       "         ...   \n",
       "109    0.118864\n",
       "110    0.175850\n",
       "111    0.198255\n",
       "112    0.263644\n",
       "113    0.399936\n",
       "Name: breathingrate, Length: 108, dtype: float64"
      ]
     },
     "execution_count": 187,
     "metadata": {},
     "output_type": "execute_result"
    }
   ],
   "source": [
    "y"
   ]
  },
  {
   "cell_type": "code",
   "execution_count": 188,
   "id": "fdc7114f",
   "metadata": {},
   "outputs": [],
   "source": [
    "from sklearn.model_selection import train_test_split\n",
    "from sklearn.linear_model import LinearRegression\n",
    "lr=LinearRegression()\n",
    "from sklearn.metrics import r2_score"
   ]
  },
  {
   "cell_type": "code",
   "execution_count": 189,
   "id": "50e02f14",
   "metadata": {},
   "outputs": [
    {
     "name": "stdout",
     "output_type": "stream",
     "text": [
      "At random state 730  The model performs very well\n",
      "At random_state:- 730\n",
      "Training r2_score is:- 0.29415362802184264\n",
      "Testing r2_score is:- 0.28976975838559405\n"
     ]
    }
   ],
   "source": [
    "max_scr=0\n",
    "for i in range(0,1000):\n",
    "    xtrain,xtest,ytrain,ytest=train_test_split(x,y,random_state=i,test_size=0.20)\n",
    "    lr.fit(xtrain,ytrain)\n",
    "    pred_train=lr.predict(xtrain)\n",
    "    pred_test=lr.predict(xtest)\n",
    "    if round(r2_score(ytrain,pred_train)*100,2)==round(r2_score(ytest,pred_test)*100,2):\n",
    "        print(\"At random state\",i,\" The model performs very well\")\n",
    "        print(\"At random_state:-\",i)\n",
    "        print(\"Training r2_score is:-\", r2_score(ytrain,pred_train)*100)\n",
    "        print(\"Testing r2_score is:-\", r2_score(ytest,pred_test)*100)\n",
    "    "
   ]
  },
  {
   "cell_type": "code",
   "execution_count": 190,
   "id": "7bb8fad5",
   "metadata": {},
   "outputs": [],
   "source": [
    "xtrain,xtest,ytrain,ytest=train_test_split(x,y,test_size=.20,random_state=730)"
   ]
  },
  {
   "cell_type": "code",
   "execution_count": 191,
   "id": "47c95c3b",
   "metadata": {},
   "outputs": [],
   "source": [
    "from sklearn.metrics import mean_absolute_error\n",
    "from sklearn.metrics import mean_squared_error\n",
    "import numpy as np"
   ]
  },
  {
   "cell_type": "code",
   "execution_count": 192,
   "id": "559f4870",
   "metadata": {},
   "outputs": [
    {
     "name": "stdout",
     "output_type": "stream",
     "text": [
      "Error:\n",
      "Mean Absolute Error: 0.06910188132143415\n",
      "Mean Squared Error: 0.006662041330363072\n",
      "Root Mean Square Error: 0.08162132889363584\n"
     ]
    }
   ],
   "source": [
    "print('Error:')\n",
    "\n",
    "print('Mean Absolute Error:',mean_absolute_error(ytest,pred_test))\n",
    "print('Mean Squared Error:',mean_squared_error(ytest,pred_test))\n",
    "print('Root Mean Square Error:',np.sqrt(mean_squared_error(ytest,pred_test)))"
   ]
  },
  {
   "cell_type": "code",
   "execution_count": 193,
   "id": "ef8ebc35",
   "metadata": {},
   "outputs": [
    {
     "data": {
      "image/png": "[encoded data removed]",
      "text/plain": [
       "<Figure size 576x432 with 1 Axes>"
      ]
     },
     "metadata": {
      "needs_background": "light"
     },
     "output_type": "display_data"
    }
   ],
   "source": [
    "plt.figure(figsize=(8,6))\n",
    "plt.scatter(x=ytest, y=pred_test, color='r')\n",
    "plt.plot(ytest,ytest, color='b')\n",
    "plt.xlabel('Actual ',fontsize=14)\n",
    "plt.ylabel('Predicted ',fontsize=14)\n",
    "plt.title('Linear Regression',fontsize=18)\n",
    "plt.show()"
   ]
  },
  {
   "cell_type": "code",
   "execution_count": 194,
   "id": "bd16a4ca",
   "metadata": {},
   "outputs": [],
   "source": [
    "from sklearn.model_selection import GridSearchCV\n",
    "from sklearn.model_selection import cross_val_score\n",
    "import warnings\n",
    "warnings.filterwarnings('ignore')"
   ]
  },
  {
   "cell_type": "code",
   "execution_count": 195,
   "id": "becbcfe9",
   "metadata": {},
   "outputs": [
    {
     "name": "stdout",
     "output_type": "stream",
     "text": [
      "{'criterion': 'mae', 'max_features': 'sqrt', 'splitter': 'random'}\n"
     ]
    }
   ],
   "source": [
    "from sklearn.tree import DecisionTreeRegressor\n",
    "\n",
    "parameters = {'criterion':['mse', 'friedman_mse', 'mae'], 'splitter':['best', 'random'], 'max_features': ['auto', 'sqrt', 'log2']}\n",
    "dt =DecisionTreeRegressor()\n",
    "clf = GridSearchCV(dt,parameters)\n",
    "clf.fit(xtrain,ytrain)\n",
    "\n",
    "print(clf.best_params_)"
   ]
  },
  {
   "cell_type": "code",
   "execution_count": 196,
   "id": "a46f7ad4",
   "metadata": {},
   "outputs": [
    {
     "name": "stdout",
     "output_type": "stream",
     "text": [
      "At cv:- 2\n",
      "R2 Score: -41.639183673595696\n",
      "Cross Val Score: -142.94091553937054\n",
      "At cv:- 3\n",
      "R2 Score: -41.639183673595696\n",
      "Cross Val Score: -126.5264204928723\n",
      "At cv:- 4\n",
      "R2 Score: -41.639183673595696\n",
      "Cross Val Score: -197.74749535225564\n",
      "At cv:- 5\n",
      "R2 Score: -41.639183673595696\n",
      "Cross Val Score: -128.02517648386757\n",
      "At cv:- 6\n",
      "R2 Score: -41.639183673595696\n",
      "Cross Val Score: -180.82844547855024\n",
      "At cv:- 7\n",
      "R2 Score: -41.639183673595696\n",
      "Cross Val Score: -120.28168920024275\n",
      "At cv:- 8\n",
      "R2 Score: -41.639183673595696\n",
      "Cross Val Score: -138.30266920051173\n",
      "At cv:- 9\n",
      "R2 Score: -41.639183673595696\n",
      "Cross Val Score: -122.2114098298001\n",
      "At cv:- 10\n",
      "R2 Score: -41.639183673595696\n",
      "Cross Val Score: -114.73199525527376\n",
      "At cv:- 11\n",
      "R2 Score: -41.639183673595696\n",
      "Cross Val Score: -127.01147842595068\n",
      "At cv:- 12\n",
      "R2 Score: -41.639183673595696\n",
      "Cross Val Score: -150.4348977218262\n"
     ]
    }
   ],
   "source": [
    "from sklearn.tree import DecisionTreeRegressor\n",
    "dt = DecisionTreeRegressor(criterion='mae', splitter='random',max_features= 'sqrt')\n",
    "dt.fit(xtrain,ytrain)\n",
    "dt.score(xtrain,ytrain)\n",
    "pred_decision = dt.predict(xtest)\n",
    "\n",
    "dts = r2_score(ytest,pred_decision)\n",
    "for j in range(2,13):\n",
    "    print(\"At cv:-\",j)\n",
    "    dts = r2_score(ytest,pred_decision)\n",
    "    print('R2 Score:',dts*100)\n",
    "\n",
    "    dtscore = cross_val_score(dt,x,y,cv=j)\n",
    "    dtc = dtscore.mean() \n",
    "    print('Cross Val Score:',dtc*100)"
   ]
  },
  {
   "cell_type": "code",
   "execution_count": 197,
   "id": "05e08bcf",
   "metadata": {},
   "outputs": [
    {
     "data": {
      "image/png": "[encoded data removed]",
      "text/plain": [
       "<Figure size 576x432 with 1 Axes>"
      ]
     },
     "metadata": {
      "needs_background": "light"
     },
     "output_type": "display_data"
    }
   ],
   "source": [
    "plt.figure(figsize=(8,6))\n",
    "plt.scatter(x=ytest, y=pred_decision, color='r')\n",
    "plt.plot(ytest,ytest, color='b')\n",
    "plt.xlabel('Actual  ]',fontsize=14)\n",
    "plt.ylabel('Predicted',fontsize=14)\n",
    "plt.title('Decision Tree Regression',fontsize=18)\n",
    "plt.show()"
   ]
  },
  {
   "cell_type": "code",
   "execution_count": 198,
   "id": "7c178f7c",
   "metadata": {},
   "outputs": [
    {
     "name": "stdout",
     "output_type": "stream",
     "text": [
      "{'criterion': 'friedman_mse', 'loss': 'lad', 'n_estimators': 50}\n"
     ]
    }
   ],
   "source": [
    "from sklearn.datasets import make_regression\n",
    "from sklearn.ensemble import GradientBoostingRegressor\n",
    "parameters = {'loss' : ['ls', 'lad', 'huber', 'quantile'],'n_estimators':[50,100,200],'criterion':['friedman_mse', 'mse']}\n",
    "gbr=GradientBoostingRegressor()\n",
    "clf = GridSearchCV(gbr,parameters)\n",
    "clf.fit(xtrain,ytrain)\n",
    "\n",
    "print(clf.best_params_)"
   ]
  },
  {
   "cell_type": "code",
   "execution_count": 199,
   "id": "6a9755dc",
   "metadata": {},
   "outputs": [
    {
     "name": "stdout",
     "output_type": "stream",
     "text": [
      "At cv:- 2\n",
      "R2 Score: -2.21362518823347\n",
      "Cross Val Score: -34.45033610758519\n",
      "At cv:- 3\n",
      "R2 Score: -2.21362518823347\n",
      "Cross Val Score: -25.48058814154095\n",
      "At cv:- 4\n",
      "R2 Score: -2.21362518823347\n",
      "Cross Val Score: -31.844498987405956\n",
      "At cv:- 5\n",
      "R2 Score: -2.21362518823347\n",
      "Cross Val Score: -18.14080668680981\n",
      "At cv:- 6\n",
      "R2 Score: -2.21362518823347\n",
      "Cross Val Score: -32.08241551437567\n",
      "At cv:- 7\n",
      "R2 Score: -2.21362518823347\n",
      "Cross Val Score: -25.721798903012594\n",
      "At cv:- 8\n",
      "R2 Score: -2.21362518823347\n",
      "Cross Val Score: -26.904103269053593\n",
      "At cv:- 9\n",
      "R2 Score: -2.21362518823347\n",
      "Cross Val Score: -32.77499362785758\n",
      "At cv:- 10\n",
      "R2 Score: -2.21362518823347\n",
      "Cross Val Score: -24.919757917422068\n",
      "At cv:- 11\n",
      "R2 Score: -2.21362518823347\n",
      "Cross Val Score: -16.83035347571333\n",
      "At cv:- 12\n",
      "R2 Score: -2.21362518823347\n",
      "Cross Val Score: -29.2592433453381\n",
      "At cv:- 13\n",
      "R2 Score: -2.21362518823347\n",
      "Cross Val Score: -41.07316204946619\n",
      "At cv:- 14\n",
      "R2 Score: -2.21362518823347\n",
      "Cross Val Score: -27.17243622796212\n",
      "At cv:- 15\n",
      "R2 Score: -2.21362518823347\n",
      "Cross Val Score: -21.302380399396124\n",
      "At cv:- 16\n",
      "R2 Score: -2.21362518823347\n",
      "Cross Val Score: -36.62846098475306\n",
      "At cv:- 17\n",
      "R2 Score: -2.21362518823347\n",
      "Cross Val Score: -42.15859489374865\n"
     ]
    }
   ],
   "source": [
    "gbr= GradientBoostingRegressor(criterion='friedman_mse',loss='lad',n_estimators=100)\n",
    "gbr.fit(xtrain, ytrain)\n",
    "gbr.score(xtrain, ytrain)\n",
    "pred_gradient = gbr.predict(xtest)\n",
    "\n",
    "for j in range(2,10):\n",
    "    print(\"At cv:-\",j)\n",
    "\n",
    "    gbrs= r2_score(ytest,pred_gradient)\n",
    "    print('R2 Score:',gbrs*100)\n",
    "\n",
    "    gbscore = cross_val_score(gbr,x,y,cv=j)\n",
    "    gbrc= gbscore.mean() \n",
    "    print('Cross Val Score:',gbrc*100)"
   ]
  },
  {
   "cell_type": "code",
   "execution_count": 200,
   "id": "ecade4c4",
   "metadata": {},
   "outputs": [
    {
     "name": "stdout",
     "output_type": "stream",
     "text": [
      "{'alpha': 0.01, 'random_state': 0, 'selection': 'cyclic'}\n"
     ]
    }
   ],
   "source": [
    "from sklearn.linear_model import Lasso\n",
    "\n",
    "parameters = {'alpha':[.0001, .001, .01, .1, 1, 10],'random_state':list(range(0,10)),'selection':['cyclic', 'random']}\n",
    "ls = Lasso()\n",
    "clf = GridSearchCV(ls,parameters)\n",
    "clf.fit(xtrain,ytrain)\n",
    "\n",
    "print(clf.best_params_)"
   ]
  },
  {
   "cell_type": "code",
   "execution_count": 201,
   "id": "942ca371",
   "metadata": {},
   "outputs": [
    {
     "name": "stdout",
     "output_type": "stream",
     "text": [
      "At cv:- 2\n",
      "Cross validation score is:- -6.40752883341873\n",
      "R2_score is :- -0.0711713424948357\n",
      "\n",
      "\n",
      "At cv:- 3\n",
      "Cross validation score is:- -0.45744428500313167\n",
      "R2_score is :- -0.0711713424948357\n",
      "\n",
      "\n",
      "At cv:- 4\n",
      "Cross validation score is:- -11.413869194917863\n",
      "R2_score is :- -0.0711713424948357\n",
      "\n",
      "\n",
      "At cv:- 5\n",
      "Cross validation score is:- -6.475991223679648\n",
      "R2_score is :- -0.0711713424948357\n",
      "\n",
      "\n",
      "At cv:- 6\n",
      "Cross validation score is:- -8.264848838792267\n",
      "R2_score is :- -0.0711713424948357\n",
      "\n",
      "\n",
      "At cv:- 7\n",
      "Cross validation score is:- -2.628213107545466\n",
      "R2_score is :- -0.0711713424948357\n",
      "\n",
      "\n",
      "At cv:- 8\n",
      "Cross validation score is:- -12.64131554542196\n",
      "R2_score is :- -0.0711713424948357\n",
      "\n",
      "\n",
      "At cv:- 9\n",
      "Cross validation score is:- -19.119379373250897\n",
      "R2_score is :- -0.0711713424948357\n",
      "\n",
      "\n",
      "At cv:- 10\n",
      "Cross validation score is:- -12.174361317805927\n",
      "R2_score is :- -0.0711713424948357\n",
      "\n",
      "\n",
      "At cv:- 11\n",
      "Cross validation score is:- -12.055150323327734\n",
      "R2_score is :- -0.0711713424948357\n",
      "\n",
      "\n",
      "At cv:- 12\n",
      "Cross validation score is:- -22.093936494200527\n",
      "R2_score is :- -0.0711713424948357\n",
      "\n",
      "\n"
     ]
    }
   ],
   "source": [
    "ls = Lasso(alpha=0.01,random_state=0,selection='cyclic')\n",
    "ls.fit(xtrain,ytrain)\n",
    "ls.score(xtrain,ytrain)\n",
    "pred_ls = ls.predict(xtest)\n",
    "\n",
    "lss = r2_score(ytest,pred_ls)\n",
    "for j in range(2,13):\n",
    "    lsscore = cross_val_score(ls,x,y,cv=j)\n",
    "    lsc = lsscore.mean() \n",
    "    print(\"At cv:-\",j)\n",
    "    print(\"Cross validation score is:-\",lsc*100 )\n",
    "    print(\"R2_score is :-\",lss*100)\n",
    "    print(\"\\n\")"
   ]
  },
  {
   "cell_type": "code",
   "execution_count": 202,
   "id": "9c2e0f3a",
   "metadata": {},
   "outputs": [
    {
     "name": "stdout",
     "output_type": "stream",
     "text": [
      "At cv:- 2\n",
      "Cross validation score is:- -6.40752883341873\n",
      "R2_score is :- -0.0711713424948357\n",
      "\n",
      "\n",
      "At cv:- 3\n",
      "Cross validation score is:- -0.45744428500313167\n",
      "R2_score is :- -0.0711713424948357\n",
      "\n",
      "\n",
      "At cv:- 4\n",
      "Cross validation score is:- -11.413869194917863\n",
      "R2_score is :- -0.0711713424948357\n",
      "\n",
      "\n",
      "At cv:- 5\n",
      "Cross validation score is:- -6.475991223679648\n",
      "R2_score is :- -0.0711713424948357\n",
      "\n",
      "\n",
      "At cv:- 6\n",
      "Cross validation score is:- -8.264848838792267\n",
      "R2_score is :- -0.0711713424948357\n",
      "\n",
      "\n",
      "At cv:- 7\n",
      "Cross validation score is:- -2.628213107545466\n",
      "R2_score is :- -0.0711713424948357\n",
      "\n",
      "\n"
     ]
    }
   ],
   "source": [
    "ls = Lasso(alpha=.01,random_state=3,selection='random')\n",
    "ls.fit(xtrain,ytrain)\n",
    "ls.score(xtrain,ytrain)\n",
    "pred_ls = ls.predict(xtest)\n",
    "\n",
    "lss = r2_score(ytest,pred_ls)\n",
    "for j in range(2,8):\n",
    "    lsscore = cross_val_score(ls,x,y,cv=j)\n",
    "    lsc = lsscore.mean() \n",
    "    print(\"At cv:-\",j)\n",
    "    print(\"Cross validation score is:-\",lsc*100 )\n",
    "    print(\"R2_score is :-\",lss*100)\n",
    "    print(\"\\n\")"
   ]
  },
  {
   "cell_type": "code",
   "execution_count": 203,
   "id": "57c8e0f7",
   "metadata": {},
   "outputs": [
    {
     "name": "stdout",
     "output_type": "stream",
     "text": [
      "Error:\n",
      "Mean Absolute Error: 0.06910517655674465\n",
      "Mean Squared Error: 0.006615179920542765\n",
      "Root Mean Square Error: 0.08133375634103447\n"
     ]
    }
   ],
   "source": [
    "print('Error:')\n",
    "\n",
    "print('Mean Absolute Error:',mean_absolute_error(ytest,pred_ls))\n",
    "print('Mean Squared Error:',mean_squared_error(ytest,pred_ls))\n",
    "print('Root Mean Square Error:',np.sqrt(mean_squared_error(ytest,pred_ls)))"
   ]
  },
  {
   "cell_type": "code",
   "execution_count": 204,
   "id": "48805c1e",
   "metadata": {},
   "outputs": [
    {
     "data": {
      "image/png": "[encoded data removed]",
      "text/plain": [
       "<Figure size 576x432 with 1 Axes>"
      ]
     },
     "metadata": {
      "needs_background": "light"
     },
     "output_type": "display_data"
    }
   ],
   "source": [
    "plt.figure(figsize=(8,6))\n",
    "plt.scatter(x=ytest, y=pred_ls, color='r')\n",
    "plt.plot(ytest,ytest, color='b')\n",
    "plt.xlabel('Actual ',fontsize=14)\n",
    "plt.ylabel('Predicted ',fontsize=14)\n",
    "plt.title('Lasso Regression',fontsize=18)\n",
    "plt.show()"
   ]
  },
  {
   "cell_type": "code",
   "execution_count": 205,
   "id": "2dc78482",
   "metadata": {},
   "outputs": [
    {
     "name": "stdout",
     "output_type": "stream",
     "text": [
      "{'criterion': 'mae', 'max_features': 'log2', 'n_estimators': 100}\n"
     ]
    }
   ],
   "source": [
    "from sklearn.ensemble import RandomForestRegressor\n",
    "\n",
    "parameters = {'criterion':['friedman_mse', 'mae'],'n_estimators':[100,200,300],'max_features':['auto', 'sqrt', 'log2']}\n",
    "rf = RandomForestRegressor()\n",
    "clf = GridSearchCV(rf,parameters)\n",
    "clf.fit(xtrain,ytrain)\n",
    "\n",
    "print(clf.best_params_)"
   ]
  },
  {
   "cell_type": "code",
   "execution_count": 206,
   "id": "287f6e1b",
   "metadata": {},
   "outputs": [
    {
     "name": "stdout",
     "output_type": "stream",
     "text": [
      "At cv:- 2\n",
      "R2 Score: -29.263416401982532\n",
      "Cross Val Score: -72.55979918699393\n",
      "At cv:- 3\n",
      "R2 Score: -29.263416401982532\n",
      "Cross Val Score: -51.364301484697805\n",
      "At cv:- 4\n",
      "R2 Score: -29.263416401982532\n",
      "Cross Val Score: -77.56233647986255\n"
     ]
    }
   ],
   "source": [
    "rf = RandomForestRegressor(criterion='mae',n_estimators=100, max_features= 'auto')\n",
    "rf.fit(xtrain,ytrain)\n",
    "rf.score(xtrain,ytrain)\n",
    "pred_random = rf.predict(xtest)\n",
    "rfs = r2_score(ytest,pred_random)\n",
    "for j in range(2,5):\n",
    "    print(\"At cv:-\",j)\n",
    "\n",
    "    rfs = r2_score(ytest,pred_random)\n",
    "    print('R2 Score:',rfs*100)\n",
    "\n",
    "    rfscore = cross_val_score(rf,x,y,cv=j)\n",
    "    rfc = rfscore.mean() \n",
    "    print('Cross Val Score:',rfc*100)"
   ]
  },
  {
   "cell_type": "code",
   "execution_count": 207,
   "id": "4ec0cab1",
   "metadata": {},
   "outputs": [
    {
     "name": "stdout",
     "output_type": "stream",
     "text": [
      "Error:\n",
      "Mean Absolute Error: 0.07458578113895996\n",
      "Mean Squared Error: 0.008544926027862311\n",
      "Root Mean Square Error: 0.09243876907370797\n"
     ]
    }
   ],
   "source": [
    "print('Error:')\n",
    "\n",
    "print('Mean Absolute Error:',mean_absolute_error(ytest,pred_random))\n",
    "print('Mean Squared Error:',mean_squared_error(ytest,pred_random))\n",
    "print('Root Mean Square Error:',np.sqrt(mean_squared_error(ytest,pred_random)))"
   ]
  },
  {
   "cell_type": "code",
   "execution_count": 208,
   "id": "9d083749",
   "metadata": {},
   "outputs": [
    {
     "data": {
      "image/png": "[encoded data removed]",
      "text/plain": [
       "<Figure size 576x432 with 1 Axes>"
      ]
     },
     "metadata": {
      "needs_background": "light"
     },
     "output_type": "display_data"
    }
   ],
   "source": [
    "plt.figure(figsize=(8,6))\n",
    "plt.scatter(x=ytest, y=pred_random, color='r')\n",
    "plt.plot(ytest,ytest, color='b')\n",
    "plt.xlabel('Actual ',fontsize=14)\n",
    "plt.ylabel('Predicted ',fontsize=14)\n",
    "plt.title('Random Forest regressor',fontsize=18)\n",
    "plt.show()\n"
   ]
  },
  {
   "cell_type": "code",
   "execution_count": 209,
   "id": "54a4e9f8",
   "metadata": {},
   "outputs": [
    {
     "data": {
      "text/plain": [
       "array([0.1118193 , 0.27917365, 0.24512808, 0.39993601, 0.16406891,\n",
       "       0.10613458, 0.11886366, 0.17898693, 0.10796804, 0.33079722,\n",
       "       0.22448369, 0.22972663, 0.1814882 , 0.13108737, 0.10577533,\n",
       "       0.30885646, 0.23646252, 0.14369881, 0.13517167, 0.21445421,\n",
       "       0.24050024, 0.29585799])"
      ]
     },
     "execution_count": 209,
     "metadata": {},
     "output_type": "execute_result"
    }
   ],
   "source": [
    "import numpy as np\n",
    "a=np.array(ytest)\n",
    "a"
   ]
  },
  {
   "cell_type": "code",
   "execution_count": 213,
   "id": "09ac918e",
   "metadata": {},
   "outputs": [
    {
     "data": {
      "text/plain": [
       "array([0.16210587, 0.21041592, 0.17497269, 0.14771154, 0.21911759,\n",
       "       0.22624983, 0.17546823, 0.15662174, 0.16578308, 0.1854606 ,\n",
       "       0.20496712, 0.22115707, 0.19599362, 0.20911968, 0.22982939,\n",
       "       0.21688073, 0.21735647, 0.2628642 , 0.23231819, 0.24783642,\n",
       "       0.19951292, 0.20012143])"
      ]
     },
     "execution_count": 213,
     "metadata": {},
     "output_type": "execute_result"
    }
   ],
   "source": [
    "predicted=np.array(pred_random)\n",
    "predicted"
   ]
  },
  {
   "cell_type": "code",
   "execution_count": 214,
   "id": "5a7596c5",
   "metadata": {},
   "outputs": [],
   "source": [
    "df_com=pd.DataFrame({\"original\":a,\"predicted\":predicted}, index= range(len(a)))"
   ]
  },
  {
   "cell_type": "code",
   "execution_count": 215,
   "id": "f4811008",
   "metadata": {},
   "outputs": [
    {
     "data": {
      "text/html": [
       "<div>\n",
       "<style scoped>\n",
       "    .dataframe tbody tr th:only-of-type {\n",
       "        vertical-align: middle;\n",
       "    }\n",
       "\n",
       "    .dataframe tbody tr th {\n",
       "        vertical-align: top;\n",
       "    }\n",
       "\n",
       "    .dataframe thead th {\n",
       "        text-align: right;\n",
       "    }\n",
       "</style>\n",
       "<table border=\"1\" class=\"dataframe\">\n",
       "  <thead>\n",
       "    <tr style=\"text-align: right;\">\n",
       "      <th></th>\n",
       "      <th>original</th>\n",
       "      <th>predicted</th>\n",
       "    </tr>\n",
       "  </thead>\n",
       "  <tbody>\n",
       "    <tr>\n",
       "      <th>0</th>\n",
       "      <td>0.111819</td>\n",
       "      <td>0.162106</td>\n",
       "    </tr>\n",
       "    <tr>\n",
       "      <th>1</th>\n",
       "      <td>0.279174</td>\n",
       "      <td>0.210416</td>\n",
       "    </tr>\n",
       "    <tr>\n",
       "      <th>2</th>\n",
       "      <td>0.245128</td>\n",
       "      <td>0.174973</td>\n",
       "    </tr>\n",
       "    <tr>\n",
       "      <th>3</th>\n",
       "      <td>0.399936</td>\n",
       "      <td>0.147712</td>\n",
       "    </tr>\n",
       "    <tr>\n",
       "      <th>4</th>\n",
       "      <td>0.164069</td>\n",
       "      <td>0.219118</td>\n",
       "    </tr>\n",
       "    <tr>\n",
       "      <th>5</th>\n",
       "      <td>0.106135</td>\n",
       "      <td>0.226250</td>\n",
       "    </tr>\n",
       "    <tr>\n",
       "      <th>6</th>\n",
       "      <td>0.118864</td>\n",
       "      <td>0.175468</td>\n",
       "    </tr>\n",
       "    <tr>\n",
       "      <th>7</th>\n",
       "      <td>0.178987</td>\n",
       "      <td>0.156622</td>\n",
       "    </tr>\n",
       "    <tr>\n",
       "      <th>8</th>\n",
       "      <td>0.107968</td>\n",
       "      <td>0.165783</td>\n",
       "    </tr>\n",
       "    <tr>\n",
       "      <th>9</th>\n",
       "      <td>0.330797</td>\n",
       "      <td>0.185461</td>\n",
       "    </tr>\n",
       "    <tr>\n",
       "      <th>10</th>\n",
       "      <td>0.224484</td>\n",
       "      <td>0.204967</td>\n",
       "    </tr>\n",
       "    <tr>\n",
       "      <th>11</th>\n",
       "      <td>0.229727</td>\n",
       "      <td>0.221157</td>\n",
       "    </tr>\n",
       "    <tr>\n",
       "      <th>12</th>\n",
       "      <td>0.181488</td>\n",
       "      <td>0.195994</td>\n",
       "    </tr>\n",
       "    <tr>\n",
       "      <th>13</th>\n",
       "      <td>0.131087</td>\n",
       "      <td>0.209120</td>\n",
       "    </tr>\n",
       "    <tr>\n",
       "      <th>14</th>\n",
       "      <td>0.105775</td>\n",
       "      <td>0.229829</td>\n",
       "    </tr>\n",
       "    <tr>\n",
       "      <th>15</th>\n",
       "      <td>0.308856</td>\n",
       "      <td>0.216881</td>\n",
       "    </tr>\n",
       "    <tr>\n",
       "      <th>16</th>\n",
       "      <td>0.236463</td>\n",
       "      <td>0.217356</td>\n",
       "    </tr>\n",
       "    <tr>\n",
       "      <th>17</th>\n",
       "      <td>0.143699</td>\n",
       "      <td>0.262864</td>\n",
       "    </tr>\n",
       "    <tr>\n",
       "      <th>18</th>\n",
       "      <td>0.135172</td>\n",
       "      <td>0.232318</td>\n",
       "    </tr>\n",
       "    <tr>\n",
       "      <th>19</th>\n",
       "      <td>0.214454</td>\n",
       "      <td>0.247836</td>\n",
       "    </tr>\n",
       "    <tr>\n",
       "      <th>20</th>\n",
       "      <td>0.240500</td>\n",
       "      <td>0.199513</td>\n",
       "    </tr>\n",
       "    <tr>\n",
       "      <th>21</th>\n",
       "      <td>0.295858</td>\n",
       "      <td>0.200121</td>\n",
       "    </tr>\n",
       "  </tbody>\n",
       "</table>\n",
       "</div>"
      ],
      "text/plain": [
       "    original  predicted\n",
       "0   0.111819   0.162106\n",
       "1   0.279174   0.210416\n",
       "2   0.245128   0.174973\n",
       "3   0.399936   0.147712\n",
       "4   0.164069   0.219118\n",
       "5   0.106135   0.226250\n",
       "6   0.118864   0.175468\n",
       "7   0.178987   0.156622\n",
       "8   0.107968   0.165783\n",
       "9   0.330797   0.185461\n",
       "10  0.224484   0.204967\n",
       "11  0.229727   0.221157\n",
       "12  0.181488   0.195994\n",
       "13  0.131087   0.209120\n",
       "14  0.105775   0.229829\n",
       "15  0.308856   0.216881\n",
       "16  0.236463   0.217356\n",
       "17  0.143699   0.262864\n",
       "18  0.135172   0.232318\n",
       "19  0.214454   0.247836\n",
       "20  0.240500   0.199513\n",
       "21  0.295858   0.200121"
      ]
     },
     "execution_count": 215,
     "metadata": {},
     "output_type": "execute_result"
    }
   ],
   "source": [
    "df_com"
   ]
  },
  {
   "cell_type": "code",
   "execution_count": null,
   "id": "41c6c5a6",
   "metadata": {},
   "outputs": [],
   "source": []
  }
 ],
 "metadata": {
  "kernelspec": {
   "display_name": "Python 3 (ipykernel)",
   "language": "python",
   "name": "python3"
  },
  "language_info": {
   "codemirror_mode": {
    "name": "ipython",
    "version": 3
   },
   "file_extension": ".py",
   "mimetype": "text/x-python",
   "name": "python",
   "nbconvert_exporter": "python",
   "pygments_lexer": "ipython3",
   "version": "3.9.12"
  }
 },
 "nbformat": 4,
 "nbformat_minor": 5
}
